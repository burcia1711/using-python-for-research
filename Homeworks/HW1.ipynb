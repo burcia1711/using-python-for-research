{
  "nbformat": 4,
  "nbformat_minor": 0,
  "metadata": {
    "kernelspec": {
      "display_name": "Python 3",
      "language": "python",
      "name": "python3"
    },
    "language_info": {
      "codemirror_mode": {
        "name": "ipython",
        "version": 3
      },
      "file_extension": ".py",
      "mimetype": "text/x-python",
      "name": "python",
      "nbconvert_exporter": "python",
      "pygments_lexer": "ipython3",
      "version": "3.8.8"
    },
    "colab": {
      "name": "HW1.ipynb",
      "provenance": [],
      "collapsed_sections": []
    }
  },
  "cells": [
    {
      "cell_type": "markdown",
      "metadata": {
        "id": "eMEmKxL-w9ey"
      },
      "source": [
        "# Using Python for Research Homework: Week 1\n",
        "\n",
        "In this homework, we will use objects, functions, and randomness to find the length of documents, approximate $\\pi$, and smooth out random noise."
      ]
    },
    {
      "cell_type": "markdown",
      "metadata": {
        "id": "G0ZO4VNiw9fD"
      },
      "source": [
        "### Exercise 1\n",
        "\n",
        "In this five-part exercise, we will count the frequency of each letter in a given string.\n",
        "\n",
        "#### Exercise 1a\n",
        "\n",
        "- Import the `string` library.\n",
        "- Create a variable `alphabet` that consists of the lowercase and uppercase letters in the English alphabet using the `ascii_letters` data attribute of the `string` library."
      ]
    },
    {
      "cell_type": "code",
      "metadata": {
        "id": "eC8HsUjYw9fF"
      },
      "source": [
        "import string\n",
        "\n",
        "alphabet = string.ascii_letters"
      ],
      "execution_count": 4,
      "outputs": []
    },
    {
      "cell_type": "markdown",
      "metadata": {
        "id": "PIyZtCWZw9fL"
      },
      "source": [
        "#### Exercise 1b\n",
        "- The lower and upper case letters of the English alphabet should stored as the string variable `alphabet`.\n",
        "- Consider the sentence 'Jim quickly realized that the beautiful gowns are expensive'. Create a dictionary `count_letters` with keys consisting of each unique letter in the sentence and values consisting of the number of times each letter is used in this sentence. Count upper case and lower case letters separately in the dictionary."
      ]
    },
    {
      "cell_type": "code",
      "metadata": {
        "colab": {
          "base_uri": "https://localhost:8080/"
        },
        "id": "4YpmMu7Dw9fM",
        "outputId": "510f154b-8ba7-4119-f0c0-fdcf257339c5"
      },
      "source": [
        "sentence = 'Jim quickly realized that the beautiful gowns are expensive'\n",
        "\n",
        "count_letters = {}\n",
        "\n",
        "for letter in sentence:\n",
        "  if letter in alphabet:\n",
        "    if letter in count_letters.keys():\n",
        "      count_letters[letter] += 1\n",
        "    else:\n",
        "      count_letters[letter] = 1\n",
        "            \n",
        "print(list(count_letters.values())[2])\n",
        "print(list(count_letters.values())[7])"
      ],
      "execution_count": 8,
      "outputs": [
        {
          "output_type": "stream",
          "name": "stdout",
          "text": [
            "1\n",
            "3\n"
          ]
        }
      ]
    },
    {
      "cell_type": "markdown",
      "metadata": {
        "id": "dN-dB1EEw9fP"
      },
      "source": [
        "#### Exercise 1c\n",
        "- Rewrite your code from 1b to make a function called `counter` that takes a string `input_string` and returns a dictionary of letter counts `count_letters`.\n",
        "- Use your function to call `counter(sentence)`."
      ]
    },
    {
      "cell_type": "code",
      "metadata": {
        "id": "w50r67DYw9fR"
      },
      "source": [
        "def counter(input_string):\n",
        "  count_letters = {}\n",
        "  for letter in input_string:\n",
        "    if letter in alphabet:\n",
        "      if letter in count_letters:\n",
        "        count_letters[letter] += 1\n",
        "      else:\n",
        "        count_letters[letter] = 1\n",
        "  return count_letters"
      ],
      "execution_count": 9,
      "outputs": []
    },
    {
      "cell_type": "markdown",
      "metadata": {
        "id": "FkF6Tsqcw9fU"
      },
      "source": [
        "#### Exercise 1d\n",
        "- Abraham Lincoln was a president during the American Civil War. His famous 1863 Gettysburg Address has been stored as `address`. Use the `counter` function from 1c to return a dictionary consisting of the count of each letter in this address and save it as `address_count`."
      ]
    },
    {
      "cell_type": "code",
      "metadata": {
        "colab": {
          "base_uri": "https://localhost:8080/"
        },
        "id": "bRrKy6pSw9fW",
        "outputId": "36f832b8-fcd8-4160-954a-c39f9ddb6c7d"
      },
      "source": [
        "address = \"\"\"Four score and seven years ago our fathers brought forth on this continent, a new nation, \n",
        "conceived in Liberty, and dedicated to the proposition that all men are created equal. Now we are engaged in a \n",
        "great civil war, testing whether that nation, or any nation so conceived and so dedicated, can long endure. \n",
        "We are met on a great battle-field of that war. We have come to dedicate a portion of that field, as a final \n",
        "resting place for those who here gave their lives that that nation might live. It is altogether fitting and proper \n",
        "that we should do this. But, in a larger sense, we can not dedicate -- we can not consecrate -- we can not hallow -- \n",
        "this ground. The brave men, living and dead, who struggled here, have consecrated it, far above our poor power to add \n",
        "or detract. The world will little note, nor long remember what we say here, but it can never forget what they did here. \n",
        "It is for us the living, rather, to be dedicated here to the unfinished work which they who fought here have thus far so \n",
        "nobly advanced. It is rather for us to be here dedicated to the great task remaining before us -- that from these honored \n",
        "dead we take increased devotion to that cause for which they gave the last full measure of devotion -- that we here \n",
        "highly resolve that these dead shall not have died in vain -- that this nation, under God, shall have a new birth of \n",
        "freedom -- and that government of the people, by the people, for the people, shall not perish from the earth.\"\"\"   \n",
        " \n",
        "#counts = dict([[letter, address.count(letter)] for letter in set(address) if letter in alphabet]) \n",
        "#counts\n",
        "address_count = counter(address)\n",
        "address_count['h']\n",
        "\n"
      ],
      "execution_count": 12,
      "outputs": [
        {
          "output_type": "execute_result",
          "data": {
            "text/plain": [
              "{'B': 1,\n",
              " 'F': 1,\n",
              " 'G': 1,\n",
              " 'I': 3,\n",
              " 'L': 1,\n",
              " 'N': 1,\n",
              " 'T': 2,\n",
              " 'W': 2,\n",
              " 'a': 102,\n",
              " 'b': 13,\n",
              " 'c': 31,\n",
              " 'd': 58,\n",
              " 'e': 165,\n",
              " 'f': 26,\n",
              " 'g': 27,\n",
              " 'h': 80,\n",
              " 'i': 65,\n",
              " 'k': 3,\n",
              " 'l': 41,\n",
              " 'm': 13,\n",
              " 'n': 76,\n",
              " 'o': 93,\n",
              " 'p': 15,\n",
              " 'q': 1,\n",
              " 'r': 79,\n",
              " 's': 44,\n",
              " 't': 124,\n",
              " 'u': 21,\n",
              " 'v': 24,\n",
              " 'w': 26,\n",
              " 'y': 10}"
            ]
          },
          "metadata": {},
          "execution_count": 12
        }
      ]
    },
    {
      "cell_type": "markdown",
      "metadata": {
        "id": "OphoiKUFw9fa"
      },
      "source": [
        "#### Exercise 1f\n",
        "- The frequency of each letter in the Gettysburg Address is already stored as `address_count`. Use this dictionary to find the most common letter in the Gettysburg address."
      ]
    },
    {
      "cell_type": "code",
      "metadata": {
        "colab": {
          "base_uri": "https://localhost:8080/"
        },
        "id": "hwoYlk2-w9fb",
        "outputId": "537b0d0a-6859-4431-ea87-b195a3641bae"
      },
      "source": [
        "# write your code here!\n",
        "maximum = 0\n",
        "most_frequent_letter = \"\"\n",
        "for letter in address_count:\n",
        "    if address_count[letter] > maximum:\n",
        "        maximum = address_count[letter]\n",
        "        most_frequent_letter = letter\n",
        "print(most_frequent_letter)\n",
        "      "
      ],
      "execution_count": 14,
      "outputs": [
        {
          "output_type": "stream",
          "name": "stdout",
          "text": [
            "e\n"
          ]
        }
      ]
    },
    {
      "cell_type": "markdown",
      "metadata": {
        "id": "sNoOSp4Uw9fd"
      },
      "source": [
        "### Exercise 2\n",
        "\n",
        "Consider a circle inscribed in a square. The ratio of their areas (the ratio of the area of the circle to the area of the square) is $\\frac{\\pi}{4}$. In this six-part exercise, we will find a way to approximate this value.\n",
        "\n",
        "#### Exercise 2a\n",
        "- Using the `math` library, calculate and print the value of $\\frac{\\pi}{4}$"
      ]
    },
    {
      "cell_type": "code",
      "metadata": {
        "colab": {
          "base_uri": "https://localhost:8080/"
        },
        "id": "_UetWgPyw9ff",
        "outputId": "710f4d1f-0212-4ec2-a006-e227d98c3eee"
      },
      "source": [
        "# write your code here\n",
        "import math\n",
        "math.pi / 4"
      ],
      "execution_count": 17,
      "outputs": [
        {
          "output_type": "execute_result",
          "data": {
            "text/plain": [
              "0.7853981633974483"
            ]
          },
          "metadata": {},
          "execution_count": 17
        }
      ]
    },
    {
      "cell_type": "markdown",
      "metadata": {
        "id": "2k0YF103w9fg"
      },
      "source": [
        "#### Exercise 2b\n",
        "- Using `random.uniform()`, create a function `rand()` that generates a single float between $-1$ and $1$.\n",
        "- Call `rand()` once. For us to be able to check your solution, we will use `random.seed()` to fix the seed value of the random number generator."
      ]
    },
    {
      "cell_type": "code",
      "metadata": {
        "colab": {
          "base_uri": "https://localhost:8080/"
        },
        "id": "pSD8JTl1w9fl",
        "outputId": "049fda6a-8fea-48cf-a2e9-03d113d95dd8"
      },
      "source": [
        "import random\n",
        "\n",
        "random.seed(1) # Fixes the see of the random number generator.\n",
        "\n",
        "def rand():\n",
        "   return random.uniform(-1,1)\n",
        "\n",
        "rand()"
      ],
      "execution_count": 18,
      "outputs": [
        {
          "output_type": "execute_result",
          "data": {
            "text/plain": [
              "-0.7312715117751976"
            ]
          },
          "metadata": {},
          "execution_count": 18
        }
      ]
    },
    {
      "cell_type": "markdown",
      "metadata": {
        "id": "fWW5swI4w9fm"
      },
      "source": [
        "#### Exercise 2c\n",
        "- The distance between two points x and y is the square root of the sum of squared differences along each dimension of x and y. Write a function` distance(x, y)` that takes two vectors as its input and outputs the distance between them. Use your function to find the distance between $x=(0,0)$ and $y=(1,1)$."
      ]
    },
    {
      "cell_type": "code",
      "metadata": {
        "id": "7O8R4LF2w9fn"
      },
      "source": [
        "def distance(x, y):\n",
        "   dist = math.sqrt((x[0]-y[0])*(x[0]-y[0])+(x[1]-y[1])*(x[1]-y[1]))\n",
        "   return dist"
      ],
      "execution_count": 19,
      "outputs": []
    },
    {
      "cell_type": "markdown",
      "metadata": {
        "id": "zhpT_3iKw9fo"
      },
      "source": [
        "#### Exercise 2d\n",
        "\n",
        "- Write a function `in_circle(x, origin)` that determines whether a point in a two dimensional plane falls within a unit circle surrounding a given origin.\n",
        "    - Your function should return a boolean `True` if the distance between `x` and `origin` is less than 1 and `False` otherwise.\n",
        "    - Use `distance(x, y)` as defined in 2c.\n",
        "- Use your function to determine whether the point (1,1) lies within the unit circle centered at (0,0)."
      ]
    },
    {
      "cell_type": "code",
      "metadata": {
        "colab": {
          "base_uri": "https://localhost:8080/"
        },
        "id": "n7zXdjIcw9fo",
        "outputId": "43dbfd58-441c-424d-c419-68151b544723"
      },
      "source": [
        "def in_circle(x, origin = [0,0]):\n",
        "    dist = distance(x, origin)\n",
        "    if dist < 1: \n",
        "        return True\n",
        "    else:\n",
        "        return False\n",
        "    \n",
        "in_circle((1,1))"
      ],
      "execution_count": 20,
      "outputs": [
        {
          "output_type": "execute_result",
          "data": {
            "text/plain": [
              "False"
            ]
          },
          "metadata": {},
          "execution_count": 20
        }
      ]
    },
    {
      "cell_type": "markdown",
      "metadata": {
        "id": "phEjZDLuw9fq"
      },
      "source": [
        "#### Exercise 2e\n",
        "\n",
        "- Create a list `inside` of `R=10000` booleans that determines whether or not a point falls within the unit circle centered at `(0,0)`. \n",
        "    - Use the `rand` function from 2b to generate `R` randomly located points.\n",
        "    - Use the function `in_circle` to test whether or not a given pint falls within the unit circle.\n",
        "- Find the proportion of points that fall within the circle by summing all `True` values in the `inside` list; then divide the answer by `R` to obtain a proportion.\n",
        "- Print your answer. This proportion is an estimate of the ratio of the two areas!"
      ]
    },
    {
      "cell_type": "code",
      "metadata": {
        "colab": {
          "base_uri": "https://localhost:8080/"
        },
        "id": "lFdn232aw9fr",
        "outputId": "8ac3551a-36cf-4743-afc0-92dfb526120a"
      },
      "source": [
        "random.seed(1) \n",
        "count = 0\n",
        "inside = []\n",
        "for i in range(10000):\n",
        "    t=(rand(), rand())\n",
        "    inside.append(t)\n",
        "\n",
        "for i in range(10000):\n",
        "    if in_circle(inside[i]):\n",
        "        count+=1\n",
        "count/10000"
      ],
      "execution_count": 21,
      "outputs": [
        {
          "output_type": "execute_result",
          "data": {
            "text/plain": [
              "0.779"
            ]
          },
          "metadata": {},
          "execution_count": 21
        }
      ]
    },
    {
      "cell_type": "markdown",
      "metadata": {
        "id": "6-1-wR_Rw9fs"
      },
      "source": [
        "#### Exercise 2f\n",
        "\n",
        "- Find the difference between your estimate from part 2e and `math.pi / 4`. Note: `inside` and `R` are defined as in Exercise 2e."
      ]
    },
    {
      "cell_type": "code",
      "metadata": {
        "colab": {
          "base_uri": "https://localhost:8080/"
        },
        "id": "kHEymVcyw9ft",
        "outputId": "a0750e34-d87e-4f6c-f928-3a5a795f043d"
      },
      "source": [
        "# write your code here!\n",
        "math.pi / 4 - 0.779 "
      ],
      "execution_count": 22,
      "outputs": [
        {
          "output_type": "execute_result",
          "data": {
            "text/plain": [
              "0.006398163397448253"
            ]
          },
          "metadata": {},
          "execution_count": 22
        }
      ]
    },
    {
      "cell_type": "markdown",
      "metadata": {
        "id": "vPcMRK7-w9fu"
      },
      "source": [
        "### Exercise 3\n",
        "\n",
        "A list of numbers representing measurements obtained from a system of interest can often be noisy. One way to deal with noise to smoothen the values by replacing each value with the average of the value and the values of its neighbors.\n",
        "\n",
        "#### Exercise 3a\n",
        "\n",
        "- Write a function `moving_window_average(x, n_neighbors)` that takes a list `x` and the number of neighbors `n_neighbors` on either side of a given member of the list to consider.\n",
        "- For each value in `x`, `moving_window_average(x, n_neighbors)` computes the average of the value and the values of its neighbors.\n",
        "- `moving_window_average` should return a list of averaged values that is the same length as the original list.\n",
        "- If there are not enough neighbors (for cases near the edge), substitute the original value for a neighbor for each missing neighbor.\n",
        "- Use your function to find the moving window sum of `x=[0,10,5,3,1,5]` and `n_neighbors=1`."
      ]
    },
    {
      "cell_type": "code",
      "metadata": {
        "colab": {
          "base_uri": "https://localhost:8080/"
        },
        "id": "ecE_da8hw9fv",
        "outputId": "fb616510-78f0-40ab-da85-efa27b420487"
      },
      "source": [
        "def moving_window_average(x, n_neighbors=1):\n",
        "    n = len(x)\n",
        "    width = n_neighbors*2 + 1\n",
        "    x = [x[0]]*n_neighbors + x + [x[-1]]*n_neighbors\n",
        "    # To complete the function,\n",
        "    # return a list of the mean of values from i to i+width for all values i from 0 to n-1.\n",
        "    i = 0\n",
        "    moving_averages = []\n",
        "    while i < n - 1:\n",
        "        window = x[i : i + width]\n",
        "        average = sum(window) / width\n",
        "        moving_averages.append(average)\n",
        "        i += 1\n",
        "    return(moving_averages)\n",
        "\n",
        "x = [0,10,5,3,1,5]\n",
        "print(moving_window_average(x, 1))"
      ],
      "execution_count": 23,
      "outputs": [
        {
          "output_type": "stream",
          "name": "stdout",
          "text": [
            "[3.3333333333333335, 5.0, 6.0, 3.0, 3.0]\n"
          ]
        }
      ]
    },
    {
      "cell_type": "markdown",
      "metadata": {
        "id": "xi3aOVjww9fw"
      },
      "source": [
        "#### Exercise 3b\n",
        "- Compute and store `R=1000` random values from 0-1 as `x`.\n",
        "- Compute the moving window average for `x` for values of `n_neighbors` ranging from 1 to 9 inclusive.\n",
        "- Store `x` as well as each of these averages as consecutive lists in a list called `Y`"
      ]
    },
    {
      "cell_type": "code",
      "metadata": {
        "colab": {
          "base_uri": "https://localhost:8080/"
        },
        "id": "Ykfylahqw9fw",
        "outputId": "86448a29-3bc1-4c01-e299-3709fe5cd3c5"
      },
      "source": [
        "random.seed(1) # This line fixes the value called by your function,\n",
        "               # and is used for answer-checking.\n",
        "\n",
        "R = 1000\n",
        "x = [random.random() for i in range(R)]\n",
        "Y = [x] + [moving_window_average(x, i) for i in range(1, 10)]\n",
        "\n",
        "Y[5][9]\n",
        "#def rand():\n",
        "   #return random.uniform(0,1)\n",
        "\n",
        "#x = []    \n",
        "#y = []\n",
        "#z = []\n",
        "#for i in range(1000):\n",
        "    #x.append(rand())\n",
        "    \n",
        "#for i in range(10):\n",
        "    #y.append(moving_window_average(x, i))\n",
        "\n",
        "#z = moving_window_average(x, 5)\n",
        "#y"
      ],
      "execution_count": 24,
      "outputs": [
        {
          "output_type": "execute_result",
          "data": {
            "text/plain": [
              "0.45325045824763405"
            ]
          },
          "metadata": {},
          "execution_count": 24
        }
      ]
    },
    {
      "cell_type": "markdown",
      "metadata": {
        "id": "vliZuxwVw9fy"
      },
      "source": [
        "#### Exercise 3c\n",
        "\n",
        "- For each list in `Y`, calculate and store the range (the maximum minus the minimum) in a new list ranges.\n",
        "- Print your answer. As the window width increases, does the range of each list increase or decrease? Why do you think that is?"
      ]
    },
    {
      "cell_type": "code",
      "metadata": {
        "colab": {
          "base_uri": "https://localhost:8080/"
        },
        "id": "MEbpn5OQw9fy",
        "outputId": "4fcb7759-2547-4c81-9aa1-5a10e8e645c5"
      },
      "source": [
        "# write your code here!\n",
        "\n",
        "#ranges = []\n",
        "\n",
        "#for i in range(len(y)):\n",
        "    #ranges.append(max(y[i])-min(y[i]))\n",
        "\n",
        "#ranges\n",
        "\n",
        "ranges = [max(x) - min(x) for x in Y]\n",
        "print(ranges)"
      ],
      "execution_count": 27,
      "outputs": [
        {
          "output_type": "stream",
          "name": "stdout",
          "text": [
            "[0.9973152343362711, 0.9128390185520854, 0.801645771909397, 0.7137391224212468, 0.6230146948375028, 0.5042284086774562, 0.5071013753101629, 0.4590090496908159, 0.44659549539083265, 0.4433696944090051]\n"
          ]
        }
      ]
    },
    {
      "cell_type": "code",
      "metadata": {
        "id": "70cZjGC_w9fz"
      },
      "source": [
        ""
      ],
      "execution_count": null,
      "outputs": []
    }
  ]
}